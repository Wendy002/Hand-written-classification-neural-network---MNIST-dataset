{
 "cells": [
  {
   "cell_type": "markdown",
   "metadata": {},
   "source": [
    "# Introduction\n",
    "\n",
    "In this project, you will build a neural network of your own design to evaluate the MNIST dataset.\n",
    "\n",
    "Some of the benchmark results on MNIST include can be found [on Yann LeCun's page](https://webcache.googleusercontent.com/search?q=cache:stAVPik6onEJ:yann.lecun.com/exdb/mnist) and include:\n",
    "\n",
    "88% [Lecun et al., 1998](https://hal.science/hal-03926082/document)\n",
    "\n",
    "95.3% [Lecun et al., 1998](https://hal.science/hal-03926082v1/document)\n",
    "\n",
    "99.65% [Ciresan et al., 2011](http://people.idsia.ch/~juergen/ijcai2011.pdf)\n",
    "\n",
    "\n",
    "MNIST is a great dataset for sanity checking your models, since the accuracy levels achieved by large convolutional neural networks and small linear models are both quite high. This makes it important to be familiar with the data.\n",
    "\n",
    "## Installation"
   ]
  },
  {
   "cell_type": "code",
   "execution_count": 1,
   "metadata": {},
   "outputs": [
    {
     "name": "stdout",
     "output_type": "stream",
     "text": [
      "Defaulting to user installation because normal site-packages is not writeable\n",
      "Collecting ipywidgets==8.1.5\n",
      "  Downloading ipywidgets-8.1.5-py3-none-any.whl (139 kB)\n",
      "\u001b[K     |████████████████████████████████| 139 kB 3.1 MB/s eta 0:00:01\n",
      "\u001b[?25hCollecting widgetsnbextension~=4.0.12\n",
      "  Downloading widgetsnbextension-4.0.14-py3-none-any.whl (2.2 MB)\n",
      "\u001b[K     |████████████████████████████████| 2.2 MB 42.7 MB/s eta 0:00:01\n",
      "\u001b[?25hRequirement already satisfied: traitlets>=4.3.1 in /opt/conda/lib/python3.7/site-packages (from ipywidgets==8.1.5->-r requirements.txt (line 1)) (4.3.3)\n",
      "Collecting jupyterlab-widgets~=3.0.12\n",
      "  Downloading jupyterlab_widgets-3.0.15-py3-none-any.whl (216 kB)\n",
      "\u001b[K     |████████████████████████████████| 216 kB 81.4 MB/s eta 0:00:01\n",
      "\u001b[?25hCollecting comm>=0.1.3\n",
      "  Downloading comm-0.1.4-py3-none-any.whl (6.6 kB)\n",
      "Requirement already satisfied: ipython>=6.1.0 in /opt/conda/lib/python3.7/site-packages (from ipywidgets==8.1.5->-r requirements.txt (line 1)) (7.13.0)\n",
      "Requirement already satisfied: six in /opt/conda/lib/python3.7/site-packages (from traitlets>=4.3.1->ipywidgets==8.1.5->-r requirements.txt (line 1)) (1.16.0)\n",
      "Requirement already satisfied: decorator in /opt/conda/lib/python3.7/site-packages (from traitlets>=4.3.1->ipywidgets==8.1.5->-r requirements.txt (line 1)) (4.4.2)\n",
      "Requirement already satisfied: ipython-genutils in /opt/conda/lib/python3.7/site-packages (from traitlets>=4.3.1->ipywidgets==8.1.5->-r requirements.txt (line 1)) (0.2.0)\n",
      "Requirement already satisfied: prompt-toolkit!=3.0.0,!=3.0.1,<3.1.0,>=2.0.0 in /opt/conda/lib/python3.7/site-packages (from ipython>=6.1.0->ipywidgets==8.1.5->-r requirements.txt (line 1)) (3.0.3)\n",
      "Requirement already satisfied: pexpect; sys_platform != \"win32\" in /opt/conda/lib/python3.7/site-packages (from ipython>=6.1.0->ipywidgets==8.1.5->-r requirements.txt (line 1)) (4.8.0)\n",
      "Requirement already satisfied: pygments in /opt/conda/lib/python3.7/site-packages (from ipython>=6.1.0->ipywidgets==8.1.5->-r requirements.txt (line 1)) (2.5.2)\n",
      "Requirement already satisfied: pickleshare in /opt/conda/lib/python3.7/site-packages (from ipython>=6.1.0->ipywidgets==8.1.5->-r requirements.txt (line 1)) (0.7.5)\n",
      "Requirement already satisfied: backcall in /opt/conda/lib/python3.7/site-packages (from ipython>=6.1.0->ipywidgets==8.1.5->-r requirements.txt (line 1)) (0.1.0)\n",
      "Requirement already satisfied: setuptools>=18.5 in /opt/conda/lib/python3.7/site-packages (from ipython>=6.1.0->ipywidgets==8.1.5->-r requirements.txt (line 1)) (45.2.0.post20200209)\n",
      "Requirement already satisfied: jedi>=0.10 in /opt/conda/lib/python3.7/site-packages (from ipython>=6.1.0->ipywidgets==8.1.5->-r requirements.txt (line 1)) (0.16.0)\n",
      "Requirement already satisfied: wcwidth in /opt/conda/lib/python3.7/site-packages (from prompt-toolkit!=3.0.0,!=3.0.1,<3.1.0,>=2.0.0->ipython>=6.1.0->ipywidgets==8.1.5->-r requirements.txt (line 1)) (0.1.8)\n",
      "Requirement already satisfied: ptyprocess>=0.5 in /opt/conda/lib/python3.7/site-packages (from pexpect; sys_platform != \"win32\"->ipython>=6.1.0->ipywidgets==8.1.5->-r requirements.txt (line 1)) (0.6.0)\n",
      "Requirement already satisfied: parso>=0.5.2 in /opt/conda/lib/python3.7/site-packages (from jedi>=0.10->ipython>=6.1.0->ipywidgets==8.1.5->-r requirements.txt (line 1)) (0.6.1)\n",
      "Installing collected packages: widgetsnbextension, jupyterlab-widgets, comm, ipywidgets\n",
      "Successfully installed comm-0.1.4 ipywidgets-8.1.5 jupyterlab-widgets-3.0.15 widgetsnbextension-4.0.14\n"
     ]
    }
   ],
   "source": [
    "# Restart the Kernel after you execute this command.\n",
    "\n",
    "!python -m pip install -r requirements.txt"
   ]
  },
  {
   "cell_type": "markdown",
   "metadata": {},
   "source": [
    "**Important: Restart the Kernel at this moment**"
   ]
  },
  {
   "cell_type": "markdown",
   "metadata": {},
   "source": [
    "## Imports"
   ]
  },
  {
   "cell_type": "code",
   "execution_count": 1,
   "metadata": {},
   "outputs": [],
   "source": [
    "## This cell contains the essential imports you will need – DO NOT CHANGE THE CONTENTS! ##\n",
    "import torch\n",
    "import torch.nn as nn\n",
    "import torch.nn.functional as F\n",
    "import torch.optim as optim\n",
    "import torchvision\n",
    "import torchvision.transforms as transforms\n",
    "import matplotlib.pyplot as plt\n",
    "import numpy as np"
   ]
  },
  {
   "cell_type": "markdown",
   "metadata": {},
   "source": [
    "## Load the Dataset - used train_test_split() to split data\n",
    "Specify your transforms as a list if you intend to .\n",
    "The transforms module is already loaded as `transforms`.\n",
    "\n",
    "MNIST is fortunately included in the torchvision module.\n",
    "Then, you can create your dataset using the `MNIST` object from `torchvision.datasets` ([the documentation is available here](https://pytorch.org/vision/stable/datasets.html#mnist)).\n",
    "Make sure to specify `download=True`! \n",
    "\n",
    "Once your dataset is created, you'll also need to define a `DataLoader` from the `torch.utils.data` module for both the train and the test set."
   ]
  },
  {
   "cell_type": "code",
   "execution_count": 13,
   "metadata": {},
   "outputs": [],
   "source": [
    "from sklearn.model_selection import train_test_split\n",
    "# Define transforms\n",
    "  \n",
    "transform = transforms.Compose([transforms.ToTensor(), transforms.Normalize((0.5,),(0.5,))])\n",
    "\n",
    "# Create training set, validation set and define training, Val dataloader\n",
    "\n",
    "full_train_ds = torchvision.datasets.MNIST(\n",
    "    root='./data',\n",
    "    train=True,\n",
    "    download=True,\n",
    "    transform = transform\n",
    ")\n",
    "\n",
    "# Split training dataset into train and validation using train_test_split\n",
    "train, val = train_test_split(range(len(full_train_ds)), test_size = 0.2, random_state = 42, stratify=full_train_ds.targets)\n",
    "\n",
    "train_ds = torch.utils.data.Subset(full_train_ds, train)\n",
    "val_ds = torch.utils.data.Subset(full_train_ds, val)\n",
    "\n",
    "#Train dataloader\n",
    "train_loader = torch.utils.data.DataLoader(\n",
    "    train_ds,\n",
    "    batch_size = 64,\n",
    "    shuffle = True\n",
    ")\n",
    "\n",
    "#val dataloader\n",
    "val_loader = torch.utils.data.DataLoader(\n",
    "    val_ds,\n",
    "    batch_size = 64,\n",
    "    shuffle = False\n",
    ")\n",
    "\n",
    "\n",
    "\n",
    "# Create test set and define test dataloader\n",
    "\n",
    "test_ds = torchvision.datasets.MNIST(\n",
    "    root ='./data',\n",
    "    train = False,\n",
    "    download = True,\n",
    "    transform = transform\n",
    ")\n",
    "\n",
    "test_loader = torch.utils.data.DataLoader(\n",
    "    test_ds,\n",
    "    batch_size = 64,\n",
    "    shuffle = False\n",
    "\n",
    ")\n"
   ]
  },
  {
   "cell_type": "markdown",
   "metadata": {},
   "source": [
    "## Preprocessing\n",
    "\n",
    "In your own words, why did you choose the transforms you chose? If you didn't use any preprocessing steps, why not?"
   ]
  },
  {
   "cell_type": "markdown",
   "metadata": {},
   "source": [
    "**- Transforms.ToTensor** - is used to convert input images to pytorch tensors , this is because neural networks in pytorch work on tensors to speed up convergence. \n",
    "**- transforms.Normalize** - normalizes the tensors by removing the mean and dividing by standard deviation to produce values between -1 and 1 this helps stabilize and accelerate training rate "
   ]
  },
  {
   "cell_type": "markdown",
   "metadata": {},
   "source": [
    "## Explore the Dataset\n",
    "Using matplotlib, numpy, and torch, explore the dimensions of your data.\n",
    "\n",
    "You can view images using the `show5` function defined below – it takes a data loader as an argument.\n",
    "Remember that normalized images will look really weird to you! You may want to try changing your transforms to view images.\n",
    "Typically using no transforms other than `toTensor()` works well for viewing – but not as well for training your network.\n",
    "If `show5` doesn't work, go back and check your code for creating your data loaders and your training/test sets."
   ]
  },
  {
   "cell_type": "code",
   "execution_count": 14,
   "metadata": {},
   "outputs": [],
   "source": [
    "## This cell contains a function for showing 5 images from a dataloader – DO NOT CHANGE THE CONTENTS! ##\n",
    "def show5(img_loader):\n",
    "    dataiter = iter(img_loader)\n",
    "    \n",
    "    batch = next(dataiter)\n",
    "    labels = batch[1][0:5]\n",
    "    images = batch[0][0:5]\n",
    "    for i in range(5):\n",
    "        print(int(labels[i].detach()))\n",
    "    \n",
    "        image = images[i].numpy()\n",
    "        plt.imshow(image.T.squeeze().T)\n",
    "        plt.show()"
   ]
  },
  {
   "cell_type": "markdown",
   "metadata": {},
   "source": [
    "## Dataset Sizes and shapes !!"
   ]
  },
  {
   "cell_type": "code",
   "execution_count": 15,
   "metadata": {},
   "outputs": [
    {
     "name": "stdout",
     "output_type": "stream",
     "text": [
      "Training data size:  48000\n",
      "Test data size:  10000\n",
      "Validation data size:  12000\n",
      "Training dataloader size:  750\n",
      "Test dataloader size:  157\n",
      "Validation dataloader size:  188\n"
     ]
    }
   ],
   "source": [
    "# size of training and test data\n",
    "print('Training data size: ', len(train_ds))\n",
    "print('Test data size: ', len(test_ds))\n",
    "print('Validation data size: ', len(val_ds))\n",
    "print('Training dataloader size: ', len(train_loader)) # train_ds/64\n",
    "print('Test dataloader size: ', len(test_loader)) # test_ds/64\n",
    "print('Validation dataloader size: ', len(val_loader))"
   ]
  },
  {
   "cell_type": "code",
   "execution_count": 17,
   "metadata": {},
   "outputs": [
    {
     "name": "stdout",
     "output_type": "stream",
     "text": [
      "Training dataset shape:  torch.Size([64, 1, 28, 28])\n",
      "Test dataset shape:  torch.Size([64, 1, 28, 28])\n",
      "Validation set shape:  torch.Size([64, 1, 28, 28])\n"
     ]
    }
   ],
   "source": [
    "#shape of the datasets/batch\n",
    "train_inputs, train_labels = next(iter(train_loader)) # gets the first batch\n",
    "test_inputs, test_labels = next(iter(test_loader)) \n",
    "val_inputs, val_labels = next(iter(val_loader)) \n",
    "\n",
    "print(\"Training dataset shape: \", train_inputs.shape)\n",
    "print(\"Test dataset shape: \", test_inputs.shape)\n",
    "print(\"Validation set shape: \", val_inputs.shape)"
   ]
  },
  {
   "cell_type": "code",
   "execution_count": 18,
   "metadata": {},
   "outputs": [
    {
     "name": "stdout",
     "output_type": "stream",
     "text": [
      "0\n"
     ]
    },
    {
     "data": {
      "image/png": "[encoded data removed]",
      "text/plain": [
       "<Figure size 432x288 with 1 Axes>"
      ]
     },
     "metadata": {
      "needs_background": "light"
     },
     "output_type": "display_data"
    },
    {
     "name": "stdout",
     "output_type": "stream",
     "text": [
      "6\n"
     ]
    },
    {
     "data": {
      "image/png": "[encoded data removed]",
      "text/plain": [
       "<Figure size 432x288 with 1 Axes>"
      ]
     },
     "metadata": {
      "needs_background": "light"
     },
     "output_type": "display_data"
    },
    {
     "name": "stdout",
     "output_type": "stream",
     "text": [
      "0\n"
     ]
    },
    {
     "data": {
      "image/png": "[encoded data removed]",
      "text/plain": [
       "<Figure size 432x288 with 1 Axes>"
      ]
     },
     "metadata": {
      "needs_background": "light"
     },
     "output_type": "display_data"
    },
    {
     "name": "stdout",
     "output_type": "stream",
     "text": [
      "6\n"
     ]
    },
    {
     "data": {
      "image/png": "[encoded data removed]",
      "text/plain": [
       "<Figure size 432x288 with 1 Axes>"
      ]
     },
     "metadata": {
      "needs_background": "light"
     },
     "output_type": "display_data"
    },
    {
     "name": "stdout",
     "output_type": "stream",
     "text": [
      "6\n"
     ]
    },
    {
     "data": {
      "image/png": "[encoded data removed]",
      "text/plain": [
       "<Figure size 432x288 with 1 Axes>"
      ]
     },
     "metadata": {
      "needs_background": "light"
     },
     "output_type": "display_data"
    }
   ],
   "source": [
    "# Explore  training data\n",
    "show5(train_loader)"
   ]
  },
  {
   "cell_type": "code",
   "execution_count": 19,
   "metadata": {},
   "outputs": [
    {
     "name": "stdout",
     "output_type": "stream",
     "text": [
      "7\n"
     ]
    },
    {
     "data": {
      "image/png": "[encoded data removed]",
      "text/plain": [
       "<Figure size 432x288 with 1 Axes>"
      ]
     },
     "metadata": {
      "needs_background": "light"
     },
     "output_type": "display_data"
    },
    {
     "name": "stdout",
     "output_type": "stream",
     "text": [
      "2\n"
     ]
    },
    {
     "data": {
      "image/png": "[encoded data removed]",
      "text/plain": [
       "<Figure size 432x288 with 1 Axes>"
      ]
     },
     "metadata": {
      "needs_background": "light"
     },
     "output_type": "display_data"
    },
    {
     "name": "stdout",
     "output_type": "stream",
     "text": [
      "1\n"
     ]
    },
    {
     "data": {
      "image/png": "[encoded data removed]",
      "text/plain": [
       "<Figure size 432x288 with 1 Axes>"
      ]
     },
     "metadata": {
      "needs_background": "light"
     },
     "output_type": "display_data"
    },
    {
     "name": "stdout",
     "output_type": "stream",
     "text": [
      "0\n"
     ]
    },
    {
     "data": {
      "image/png": "[encoded data removed]",
      "text/plain": [
       "<Figure size 432x288 with 1 Axes>"
      ]
     },
     "metadata": {
      "needs_background": "light"
     },
     "output_type": "display_data"
    },
    {
     "name": "stdout",
     "output_type": "stream",
     "text": [
      "4\n"
     ]
    },
    {
     "data": {
      "image/png": "[encoded data removed]",
      "text/plain": [
       "<Figure size 432x288 with 1 Axes>"
      ]
     },
     "metadata": {
      "needs_background": "light"
     },
     "output_type": "display_data"
    }
   ],
   "source": [
    "# explore test data\n",
    "show5(test_loader)"
   ]
  },
  {
   "cell_type": "markdown",
   "metadata": {},
   "source": [
    "## Build your Neural Network = Dropout layers and BatchNorm1d layers added\n",
    "Using the layers in `torch.nn` (which has been imported as `nn`) and the `torch.nn.functional` module (imported as `F`), construct a neural network based on the parameters of the dataset.\n",
    "Use any architecture you like. \n",
    "\n",
    "*Note*: If you did not flatten your tensors in your transforms or as part of your preprocessing and you are using only `Linear` layers, make sure to use the `Flatten` layer in your network!"
   ]
  },
  {
   "cell_type": "code",
   "execution_count": 20,
   "metadata": {},
   "outputs": [],
   "source": [
    "#Neural network class using the nn.Module\n",
    "class MNISTNet(nn.Module):\n",
    "    def __init__(self):\n",
    "        super(MNISTNet,self).__init__()\n",
    "        self.model = nn.Sequential(\n",
    "            nn.Flatten(),\n",
    "            nn.Linear(28 * 28, 256),\n",
    "            nn.BatchNorm1d(256),  #Batch Normalization layer\n",
    "            nn.ReLU(),\n",
    "            nn.Dropout(0.3), #30 percent dropout rate - DROPOUT Layer\n",
    "            nn.Linear(256, 256),\n",
    "            nn.BatchNorm1d(256),  #Batch Normalization layer\n",
    "            nn.ReLU(),\n",
    "            nn.Dropout(0.3),#30 percent dropout rate - DROPOUT Layer\n",
    "            nn.Linear(256,10)\n",
    "        )\n",
    "        \n",
    "    def forward(self, x):\n",
    "        x = self.model(x)\n",
    "        x = F.log_softmax(x, dim =1) # log_max for numerical stability\n",
    "        return x\n",
    "        "
   ]
  },
  {
   "cell_type": "markdown",
   "metadata": {},
   "source": [
    "Specify a loss function and an optimizer, and instantiate the model.\n",
    "\n",
    "If you use a less common loss function, please note why you chose that loss function in a comment."
   ]
  },
  {
   "cell_type": "code",
   "execution_count": 21,
   "metadata": {},
   "outputs": [],
   "source": [
    "#set device\n",
    "device = torch.device(\"cuda\" if torch.cuda.is_available() else \"cpu\")"
   ]
  },
  {
   "cell_type": "code",
   "execution_count": 24,
   "metadata": {},
   "outputs": [],
   "source": [
    "net = MNISTNet().to(device)\n",
    "criterion = nn.NLLLoss() #pairs really well with log_softmax\n",
    "optimizer = optim.Adam(net.parameters(), lr=0.001)  # Adapts learning rates per parameter"
   ]
  },
  {
   "cell_type": "markdown",
   "metadata": {},
   "source": [
    "## Running your Neural Network\n",
    "Use whatever method you like to train your neural network, and ensure you record the average loss at each epoch. \n",
    "Don't forget to use `torch.device()` and the `.to()` method for both your model and your data if you are using GPU!\n",
    "\n",
    "If you want to print your loss **during** each epoch, you can use the `enumerate` function and print the loss after a set number of batches. 250 batches works well for most people!"
   ]
  },
  {
   "cell_type": "code",
   "execution_count": 25,
   "metadata": {
    "scrolled": true
   },
   "outputs": [
    {
     "name": "stdout",
     "output_type": "stream",
     "text": [
      "Epoch 1 training accuracy: 91.39% training loss: 0.29368\n",
      "Epoch 1 validation accuracy: 96.41% validation loss: 0.12283\n",
      "Epoch 2 training accuracy: 95.26% training loss: 0.15336\n",
      "Epoch 2 validation accuracy: 96.94% validation loss: 0.09591\n",
      "Epoch 3 training accuracy: 96.12% training loss: 0.12067\n",
      "Epoch 3 validation accuracy: 97.22% validation loss: 0.09476\n",
      "Epoch 4 training accuracy: 96.81% training loss: 0.10140\n",
      "Epoch 4 validation accuracy: 97.66% validation loss: 0.07307\n",
      "Epoch 5 training accuracy: 97.08% training loss: 0.08913\n",
      "Epoch 5 validation accuracy: 97.76% validation loss: 0.07740\n",
      "Epoch 6 training accuracy: 97.35% training loss: 0.08050\n",
      "Epoch 6 validation accuracy: 97.83% validation loss: 0.07258\n",
      "Epoch 7 training accuracy: 97.56% training loss: 0.07519\n",
      "Epoch 7 validation accuracy: 97.86% validation loss: 0.06961\n",
      "Epoch 8 training accuracy: 97.84% training loss: 0.06557\n",
      "Epoch 8 validation accuracy: 97.96% validation loss: 0.06905\n",
      "Epoch 9 training accuracy: 97.86% training loss: 0.06401\n",
      "Epoch 9 validation accuracy: 97.96% validation loss: 0.06853\n",
      "Epoch 10 training accuracy: 98.12% training loss: 0.05690\n",
      "Epoch 10 validation accuracy: 98.01% validation loss: 0.06860\n",
      "Epoch 11 training accuracy: 98.14% training loss: 0.05533\n",
      "Epoch 11 validation accuracy: 98.22% validation loss: 0.06491\n",
      "Epoch 12 training accuracy: 98.18% training loss: 0.05329\n",
      "Epoch 12 validation accuracy: 98.19% validation loss: 0.06849\n",
      "Epoch 13 training accuracy: 98.47% training loss: 0.04802\n",
      "Epoch 13 validation accuracy: 98.11% validation loss: 0.06845\n",
      "Epoch 14 training accuracy: 98.41% training loss: 0.04863\n",
      "Epoch 14 validation accuracy: 98.17% validation loss: 0.06508\n",
      "Epoch 15 training accuracy: 98.58% training loss: 0.04209\n",
      "Epoch 15 validation accuracy: 98.24% validation loss: 0.06181\n"
     ]
    }
   ],
   "source": [
    "epochs_num = 15\n",
    "# Establish a list for our history\n",
    "train_loss_history = []\n",
    "val_loss_history = []\n",
    "\n",
    "for epoch in range(epochs_num):\n",
    "    net.train()\n",
    "    running_loss = 0.0\n",
    "    train_correct = 0\n",
    "    \n",
    "    for i, data in enumerate(train_loader):\n",
    "        inputs, labels = data # data is a list of inputs and labels\n",
    "        \n",
    "        #pass GPU if available\n",
    "        inputs, labels = inputs.to(device), labels.to(device)\n",
    "        \n",
    "        optimizer.zero_grad()\n",
    "        \n",
    "        outputs = net(inputs)\n",
    "        loss = criterion(outputs, labels)\n",
    "        loss.backward()\n",
    "        optimizer.step()\n",
    "        \n",
    "        _,preds = torch.max(outputs.data, 1)\n",
    "        train_correct += (preds == labels).float().mean().item()\n",
    "        running_loss += loss.item()\n",
    "    print(f'Epoch {epoch + 1} training accuracy: {train_correct/len(train_loader)*100:.2f}% training loss: {running_loss/len(train_loader):.5f}')\n",
    "    train_loss_history.append(running_loss/len(train_loader))    \n",
    "    \n",
    "    net.eval()\n",
    "    val_loss = 0.0\n",
    "    val_correct = 0\n",
    "    \n",
    "    \n",
    "    for inputs, labels in val_loader:\n",
    "        inputs, labels = inputs.to(device), labels.to(device)\n",
    "        \n",
    "        outputs = net(inputs)\n",
    "        loss = criterion(outputs, labels)\n",
    "        \n",
    "        _, preds = torch.max(outputs.data, 1)\n",
    "        val_correct += (preds == labels).float().mean().item()\n",
    "        val_loss += loss.item()\n",
    "\n",
    "        \n",
    "    print(f'Epoch {epoch + 1} validation accuracy: {val_correct/len(val_loader)*100:.2f}% validation loss: {val_loss/len(val_loader):.5f}')\n",
    "    val_loss_history.append(val_loss/len(val_loader))    \n",
    "        "
   ]
  },
  {
   "cell_type": "markdown",
   "metadata": {},
   "source": [
    "Plot the training loss (and validation loss/accuracy, if recorded)."
   ]
  },
  {
   "cell_type": "code",
   "execution_count": 26,
   "metadata": {},
   "outputs": [
    {
     "data": {
      "image/png": "[encoded data removed]",
      "text/plain": [
       "<Figure size 432x288 with 1 Axes>"
      ]
     },
     "metadata": {
      "needs_background": "light"
     },
     "output_type": "display_data"
    }
   ],
   "source": [
    "plt.plot(train_loss_history, label =\"Training Loss\")\n",
    "plt.plot(val_loss_history, label =\"Validation Loss\")\n",
    "plt.legend()\n",
    "plt.show()"
   ]
  },
  {
   "cell_type": "markdown",
   "metadata": {},
   "source": [
    "## Testing your model\n",
    "Using the previously created `DataLoader` for the test set, compute the percentage of correct predictions using the highest probability prediction. \n",
    "\n",
    "If your accuracy is over 90%, great work, but see if you can push a bit further! \n",
    "If your accuracy is under 90%, you'll need to make improvements.\n",
    "Go back and check your model architecture, loss function, and optimizer to make sure they're appropriate for an image classification task."
   ]
  },
  {
   "cell_type": "code",
   "execution_count": 27,
   "metadata": {},
   "outputs": [
    {
     "name": "stdout",
     "output_type": "stream",
     "text": [
      "Accuracy: 98.05%\n"
     ]
    }
   ],
   "source": [
    "correct_preds = 0\n",
    "total_preds = 0\n",
    "\n",
    "for inputs, labels in test_loader:\n",
    "    if torch.cuda.is_available():\n",
    "        inputs, labels = inputs.to(device), labels.to(device)\n",
    "        \n",
    "    outputs = net(inputs)\n",
    "    _, preds = torch.max(outputs.data, 1)\n",
    "    total_preds += labels.size(0)\n",
    "    correct_preds += (preds == labels).sum().item()\n",
    "    accuracy = (correct_preds / total_preds) * 100\n",
    "    \n",
    "print(f\"Accuracy: {accuracy:.2f}%\")"
   ]
  },
  {
   "cell_type": "markdown",
   "metadata": {},
   "source": [
    "## Improving your model\n",
    "\n",
    "Once your model is done training, try tweaking your hyperparameters and training again below to improve your accuracy on the test set!\n",
    "\n",
    "### We can improve accuracy by using a learning rate scheduler that reduces learning rate as the model trains, In this case we can use ReduceLROnPlateau to decrease learning rate when validation loss plateaus "
   ]
  },
  {
   "cell_type": "code",
   "execution_count": 28,
   "metadata": {},
   "outputs": [],
   "source": [
    "from torch.optim.lr_scheduler import ReduceLROnPlateau\n",
    "\n",
    "scheduler = ReduceLROnPlateau(optimizer, mode='min', factor = 0.1, patience = 5, verbose = True)"
   ]
  },
  {
   "cell_type": "code",
   "execution_count": 29,
   "metadata": {},
   "outputs": [
    {
     "name": "stdout",
     "output_type": "stream",
     "text": [
      "Epoch 1 training accuracy: 98.54% training loss: 0.04420\n",
      "Epoch 1 validation accuracy: 98.17% validation loss: 0.06793\n",
      "Epoch 2 training accuracy: 98.65% training loss: 0.04106\n",
      "Epoch 2 validation accuracy: 98.21% validation loss: 0.06753\n",
      "Epoch 3 training accuracy: 98.65% training loss: 0.03827\n",
      "Epoch 3 validation accuracy: 98.24% validation loss: 0.06588\n",
      "Epoch 4 training accuracy: 98.77% training loss: 0.03523\n",
      "Epoch 4 validation accuracy: 98.25% validation loss: 0.06427\n",
      "Epoch 5 training accuracy: 98.84% training loss: 0.03584\n",
      "Epoch 5 validation accuracy: 98.23% validation loss: 0.06730\n",
      "Epoch 6 training accuracy: 98.79% training loss: 0.03593\n",
      "Epoch 6 validation accuracy: 98.25% validation loss: 0.06488\n",
      "Epoch 7 training accuracy: 98.91% training loss: 0.03216\n",
      "Epoch 7 validation accuracy: 98.25% validation loss: 0.06802\n",
      "Epoch 8 training accuracy: 98.88% training loss: 0.03285\n",
      "Epoch 8 validation accuracy: 98.19% validation loss: 0.07324\n",
      "Epoch 9 training accuracy: 98.89% training loss: 0.03240\n",
      "Epoch 9 validation accuracy: 98.30% validation loss: 0.06744\n",
      "Epoch 10 training accuracy: 98.91% training loss: 0.03103\n",
      "Epoch 10 validation accuracy: 98.35% validation loss: 0.06635\n",
      "Epoch 00010: reducing learning rate of group 0 to 1.0000e-04.\n",
      "Epoch 11 training accuracy: 99.20% training loss: 0.02421\n",
      "Epoch 11 validation accuracy: 98.38% validation loss: 0.06278\n",
      "Epoch 12 training accuracy: 99.24% training loss: 0.02209\n",
      "Epoch 12 validation accuracy: 98.42% validation loss: 0.06190\n",
      "Epoch 13 training accuracy: 99.38% training loss: 0.01907\n",
      "Epoch 13 validation accuracy: 98.42% validation loss: 0.06187\n",
      "Epoch 14 training accuracy: 99.40% training loss: 0.01745\n",
      "Epoch 14 validation accuracy: 98.40% validation loss: 0.06071\n",
      "Epoch 15 training accuracy: 99.45% training loss: 0.01682\n",
      "Epoch 15 validation accuracy: 98.41% validation loss: 0.06151\n"
     ]
    }
   ],
   "source": [
    "epochs_num = 15\n",
    "# Establish a list for our history\n",
    "train_loss_history = []\n",
    "val_loss_history = []\n",
    "\n",
    "for epoch in range(epochs_num):\n",
    "    net.train()\n",
    "    running_loss = 0.0\n",
    "    train_correct = 0\n",
    "    \n",
    "    for i, data in enumerate(train_loader):\n",
    "        inputs, labels = data # data is a list of inputs and labels\n",
    "        \n",
    "        #pass GPU if available\n",
    "        inputs, labels = inputs.to(device), labels.to(device)\n",
    "        \n",
    "        optimizer.zero_grad()\n",
    "        \n",
    "        outputs = net(inputs)\n",
    "        loss = criterion(outputs, labels)\n",
    "        loss.backward()\n",
    "        optimizer.step()\n",
    "        \n",
    "        _,preds = torch.max(outputs.data, 1)\n",
    "        train_correct += (preds == labels).float().mean().item()\n",
    "        running_loss += loss.item()\n",
    "    \n",
    "    \n",
    "    print(f'Epoch {epoch + 1} training accuracy: {train_correct/len(train_loader)*100:.2f}% training loss: {running_loss/len(train_loader):.5f}')\n",
    "    train_loss_history.append(running_loss/len(train_loader))  \n",
    "    \n",
    "    \n",
    "    net.eval()\n",
    "    val_loss = 0.0\n",
    "    val_correct = 0\n",
    "    \n",
    "    for inputs, labels in val_loader:\n",
    "        inputs, labels = inputs.to(device), labels.to(device)\n",
    "        \n",
    "        outputs = net(inputs)\n",
    "        loss = criterion(outputs, labels)\n",
    "        \n",
    "        _, preds = torch.max(outputs.data, 1)\n",
    "        val_correct += (preds == labels).float().mean().item()\n",
    "        val_loss += loss.item()\n",
    "\n",
    "        \n",
    "    print(f'Epoch {epoch + 1} validation accuracy: {val_correct/len(val_loader)*100:.2f}% validation loss: {val_loss/len(val_loader):.5f}')\n",
    "    val_loss_history.append(val_loss/len(val_loader))    \n",
    "    \n",
    "    # add scheduler\n",
    "    scheduler.step(val_loss/len(val_loader))"
   ]
  },
  {
   "cell_type": "markdown",
   "metadata": {},
   "source": [
    "## Final Accuracy after editing hyparameters\n"
   ]
  },
  {
   "cell_type": "code",
   "execution_count": 30,
   "metadata": {},
   "outputs": [
    {
     "name": "stdout",
     "output_type": "stream",
     "text": [
      "Accuracy: 98.38%\n"
     ]
    }
   ],
   "source": [
    "correct_preds = 0\n",
    "total_preds = 0\n",
    "\n",
    "for inputs, labels in test_loader:\n",
    "    if torch.cuda.is_available():\n",
    "        inputs, labels = inputs.to(device), labels.to(device)\n",
    "        \n",
    "    outputs = net(inputs)\n",
    "    _, preds = torch.max(outputs.data, 1)\n",
    "    total_preds += labels.size(0)\n",
    "    correct_preds += (preds == labels).sum().item()\n",
    "    accuracy = (correct_preds / total_preds) * 100\n",
    "    \n",
    "print(f\"Accuracy: {accuracy:.2f}%\")"
   ]
  },
  {
   "cell_type": "markdown",
   "metadata": {},
   "source": [
    "## Saving your model\n",
    "Using `torch.save`, save your model for future loading."
   ]
  },
  {
   "cell_type": "code",
   "execution_count": 31,
   "metadata": {},
   "outputs": [],
   "source": [
    "torch.save(net.state_dict(), \"saved_model.pth\")"
   ]
  },
  {
   "cell_type": "code",
   "execution_count": null,
   "metadata": {},
   "outputs": [],
   "source": []
  }
 ],
 "metadata": {
  "kernelspec": {
   "display_name": "Python 3",
   "language": "python",
   "name": "python3"
  },
  "language_info": {
   "codemirror_mode": {
    "name": "ipython",
    "version": 3
   },
   "file_extension": ".py",
   "mimetype": "text/x-python",
   "name": "python",
   "nbconvert_exporter": "python",
   "pygments_lexer": "ipython3",
   "version": "3.7.6"
  }
 },
 "nbformat": 4,
 "nbformat_minor": 4
}
